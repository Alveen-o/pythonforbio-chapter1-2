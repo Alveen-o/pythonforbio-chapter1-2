{
 "cells": [
  {
   "metadata": {},
   "cell_type": "markdown",
   "source": [
    "# My Notes and Codes on the Python for biologist book\n",
    "## 1.  Chapter 1 focused on setting up python on your pc"
   ],
   "id": "6f1a0f6a994afc5b"
  },
  {
   "metadata": {},
   "cell_type": "markdown",
   "source": [
    "## 2. Chapter  2: Printing and Manipulating text\n",
    "string is the word we used to refer to text in programming."
   ],
   "id": "aeea1eb92c357634"
  },
  {
   "metadata": {},
   "cell_type": "markdown",
   "source": [
    "### - Printing a message on screen\n",
    "*print* is the name of the function, and functions tell python what to do like print out this text. Functions are always followed by \"()\", which content the argument."
   ],
   "id": "95cfef6eb8bef7b7"
  },
  {
   "metadata": {
    "ExecuteTime": {
     "end_time": "2025-05-12T08:45:47.326177Z",
     "start_time": "2025-05-12T08:45:47.317626Z"
    }
   },
   "cell_type": "code",
   "source": "print(\"Hello World\")",
   "id": "73fd045a65275ba5",
   "outputs": [
    {
     "name": "stdout",
     "output_type": "stream",
     "text": [
      "Hello World\n"
     ]
    }
   ],
   "execution_count": 1
  },
  {
   "metadata": {},
   "cell_type": "markdown",
   "source": [
    "### - Using Comments\n",
    "Sometimes we want to write some texts for just human understanding and not the computer to execute, so we use comments. It starts with a \"#\"."
   ],
   "id": "94628ff895d483a2"
  },
  {
   "metadata": {
    "ExecuteTime": {
     "end_time": "2025-05-12T08:54:23.659593Z",
     "start_time": "2025-05-12T08:54:23.633844Z"
    }
   },
   "cell_type": "code",
   "source": [
    "# this is a comment, it will be ignored by the computer\n",
    "print(\"comments are very useful!\")"
   ],
   "id": "12ba27352a8ded28",
   "outputs": [
    {
     "name": "stdout",
     "output_type": "stream",
     "text": [
      "comments are very useful!\n"
     ]
    }
   ],
   "execution_count": 2
  },
  {
   "metadata": {},
   "cell_type": "markdown",
   "source": "with comments you can put the explanation to what a particular code does next to the code, documenting code and serves as a reminder to update the documentation when updating the code.",
   "id": "57236d402976e354"
  },
  {
   "metadata": {},
   "cell_type": "markdown",
   "source": [
    "### - Error messages and debugging\n",
    "    1. Forgetting quotes"
   ],
   "id": "bd1038e296859b34"
  },
  {
   "metadata": {
    "ExecuteTime": {
     "end_time": "2025-05-12T09:31:56.088860Z",
     "start_time": "2025-05-12T09:31:56.056335Z"
    }
   },
   "cell_type": "code",
   "source": "print(Hello world)",
   "id": "72a09d060447fdf7",
   "outputs": [
    {
     "ename": "SyntaxError",
     "evalue": "invalid syntax. Perhaps you forgot a comma? (4196903471.py, line 1)",
     "output_type": "error",
     "traceback": [
      "\u001B[0;36m  Cell \u001B[0;32mIn[3], line 1\u001B[0;36m\u001B[0m\n\u001B[0;31m    print(Hello world)\u001B[0m\n\u001B[0m          ^\u001B[0m\n\u001B[0;31mSyntaxError\u001B[0m\u001B[0;31m:\u001B[0m invalid syntax. Perhaps you forgot a comma?\n"
     ]
    }
   ],
   "execution_count": 3
  },
  {
   "metadata": {},
   "cell_type": "markdown",
   "source": "The error gives the cell number which is cell 3, on line one, Syntax error which means python can not understand the code and a suggestion",
   "id": "c5612f262c2ca76d"
  },
  {
   "metadata": {},
   "cell_type": "markdown",
   "source": "2. Spelling mistakes",
   "id": "52a81e74431aa27e"
  },
  {
   "metadata": {
    "ExecuteTime": {
     "end_time": "2025-05-12T09:35:35.188681Z",
     "start_time": "2025-05-12T09:35:34.727972Z"
    }
   },
   "cell_type": "code",
   "source": "prin(\"Hello world\")",
   "id": "56d82bc5e8a02af8",
   "outputs": [
    {
     "ename": "NameError",
     "evalue": "name 'prin' is not defined",
     "output_type": "error",
     "traceback": [
      "\u001B[0;31m---------------------------------------------------------------------------\u001B[0m",
      "\u001B[0;31mNameError\u001B[0m                                 Traceback (most recent call last)",
      "Cell \u001B[0;32mIn[4], line 1\u001B[0m\n\u001B[0;32m----> 1\u001B[0m prin(\u001B[38;5;124m\"\u001B[39m\u001B[38;5;124mHello world\u001B[39m\u001B[38;5;124m\"\u001B[39m)\n",
      "\u001B[0;31mNameError\u001B[0m: name 'prin' is not defined"
     ]
    }
   ],
   "execution_count": 4
  },
  {
   "metadata": {},
   "cell_type": "markdown",
   "source": "we get a different error type \"NameError\", the error message tells us which word python doesn't understand.",
   "id": "2323ea3699d1b132"
  },
  {
   "metadata": {},
   "cell_type": "markdown",
   "source": "3. Splitting a statement over two lines",
   "id": "e5e3db0adaf933d4"
  },
  {
   "metadata": {
    "ExecuteTime": {
     "end_time": "2025-05-12T09:41:55.972432Z",
     "start_time": "2025-05-12T09:41:55.967722Z"
    }
   },
   "cell_type": "code",
   "source": [
    "print(\"Hello\n",
    "world\")"
   ],
   "id": "7049b8805c2ff62f",
   "outputs": [
    {
     "ename": "SyntaxError",
     "evalue": "unterminated string literal (detected at line 1) (3888825979.py, line 1)",
     "output_type": "error",
     "traceback": [
      "\u001B[0;36m  Cell \u001B[0;32mIn[8], line 1\u001B[0;36m\u001B[0m\n\u001B[0;31m    print(\"Hello\u001B[0m\n\u001B[0m          ^\u001B[0m\n\u001B[0;31mSyntaxError\u001B[0m\u001B[0;31m:\u001B[0m unterminated string literal (detected at line 1)\n"
     ]
    }
   ],
   "execution_count": 8
  },
  {
   "metadata": {},
   "cell_type": "markdown",
   "source": [
    "### - Printing special characters\n",
    "The reason the code above doesn't work is that python got confused about the new line. To add a new line, Which python has a tool for that \"\\n\"."
   ],
   "id": "d1dabb91b2767012"
  },
  {
   "metadata": {
    "ExecuteTime": {
     "end_time": "2025-05-12T09:45:30.101786Z",
     "start_time": "2025-05-12T09:45:30.093799Z"
    }
   },
   "cell_type": "code",
   "source": [
    "# how to include a new line in the middle of a string\n",
    "print(\"Hello\\nworld\")"
   ],
   "id": "9c92da7915af691b",
   "outputs": [
    {
     "name": "stdout",
     "output_type": "stream",
     "text": [
      "Hello\n",
      "world\n"
     ]
    }
   ],
   "execution_count": 11
  },
  {
   "metadata": {},
   "cell_type": "markdown",
   "source": [
    "There a few other useful special characters, tab character (\\t) is useful when writing a program that will produce a lot of output, carriage return (\\r) works a bit like a new line in\n",
    "that it puts the cursor back to the start of the line, but doesn't actually start a new\n",
    "line, so you can use it to overwrite output, this is sometimes useful for long-running programs."
   ],
   "id": "18385697c919fdcc"
  },
  {
   "metadata": {},
   "cell_type": "markdown",
   "source": [
    "### - Storing strings in variables\n",
    "We can take a string and assign a name to it using an equals sign, we call this a variable."
   ],
   "id": "67920e19bb5d2b56"
  },
  {
   "metadata": {
    "ExecuteTime": {
     "end_time": "2025-05-12T10:03:24.251032Z",
     "start_time": "2025-05-12T10:03:24.236374Z"
    }
   },
   "cell_type": "code",
   "source": [
    "# store a short DNA sequence in a variable my_dna\n",
    "my_dna = \"ATGCGTA\"\n",
    "#now print the DNA sequence\n",
    "print(my_dna)"
   ],
   "id": "66d83a80706d41b7",
   "outputs": [
    {
     "name": "stdout",
     "output_type": "stream",
     "text": [
      "ATGCGTA\n"
     ]
    }
   ],
   "execution_count": 13
  },
  {
   "metadata": {},
   "cell_type": "markdown",
   "source": [
    "What makes a good variable name? Generally, it's a good idea to use a variable\n",
    "name that gives us a clue as to what the variable refers to. In this example, my_dna\n",
    "is a good variable name, because it tells us that the content of the variable is a DNA\n",
    "sequence."
   ],
   "id": "fefdbcf26fc67f45"
  },
  {
   "metadata": {},
   "cell_type": "markdown",
   "source": [
    "### - Tools for manipulating strings\n",
    "1. Concatenation\n",
    "\n",
    "We can concatenate two stings together using the \"+\" symbol. This will join together the string on the left to the one on the right."
   ],
   "id": "2f6ce635574802ca"
  },
  {
   "metadata": {
    "ExecuteTime": {
     "end_time": "2025-05-12T10:17:32.997239Z",
     "start_time": "2025-05-12T10:17:32.966111Z"
    }
   },
   "cell_type": "code",
   "source": [
    "my_dna = \"AATT\" + \"GGCC\"\n",
    "print(my_dna)"
   ],
   "id": "c6f8a374064b3abb",
   "outputs": [
    {
     "name": "stdout",
     "output_type": "stream",
     "text": [
      "AATTGGCC\n"
     ]
    }
   ],
   "execution_count": 14
  },
  {
   "metadata": {},
   "cell_type": "markdown",
   "source": "variables can also be concatenated",
   "id": "4b9434810c65b201"
  },
  {
   "metadata": {
    "ExecuteTime": {
     "end_time": "2025-05-12T16:22:53.527175Z",
     "start_time": "2025-05-12T16:22:53.514878Z"
    }
   },
   "cell_type": "code",
   "source": [
    "upstream = 'AAA'\n",
    "my_dna = upstream + \"ATGC\"\n",
    "print(my_dna)"
   ],
   "id": "110c0a9d6ba12c8a",
   "outputs": [
    {
     "name": "stdout",
     "output_type": "stream",
     "text": [
      "AAAATGC\n"
     ]
    }
   ],
   "execution_count": 17
  },
  {
   "metadata": {},
   "cell_type": "markdown",
   "source": "We can join multiple strings together at once",
   "id": "9c6435407bc0284f"
  },
  {
   "metadata": {
    "ExecuteTime": {
     "end_time": "2025-05-12T16:23:53.224207Z",
     "start_time": "2025-05-12T16:23:53.216447Z"
    }
   },
   "cell_type": "code",
   "source": [
    "upstream = 'AAA'\n",
    "downstream = 'GGG'\n",
    "my_dna = upstream + \"ATGC\" + downstream\n",
    "print(my_dna)"
   ],
   "id": "44af681ff8d3649a",
   "outputs": [
    {
     "name": "stdout",
     "output_type": "stream",
     "text": [
      "AAAATGCGGG\n"
     ]
    }
   ],
   "execution_count": 18
  },
  {
   "metadata": {},
   "cell_type": "markdown",
   "source": [
    "2. Finding the length of a string\n",
    "\n",
    "len function used to calculate the length of a string. It takes a single argument a string, and outputs a value that can be stored (called a return value)"
   ],
   "id": "b02d51967eda0812"
  },
  {
   "metadata": {
    "ExecuteTime": {
     "end_time": "2025-05-12T16:29:04.479868Z",
     "start_time": "2025-05-12T16:29:04.371479Z"
    }
   },
   "cell_type": "code",
   "source": [
    "#this line doesn't produce an output\n",
    "len(\"ATGC\")"
   ],
   "id": "1ad7fa696751282c",
   "outputs": [
    {
     "data": {
      "text/plain": [
       "4"
      ]
     },
     "execution_count": 19,
     "metadata": {},
     "output_type": "execute_result"
    }
   ],
   "execution_count": 19
  },
  {
   "metadata": {},
   "cell_type": "markdown",
   "source": "To use the value we store it in a variable",
   "id": "abe77a10749bbc7e"
  },
  {
   "metadata": {
    "ExecuteTime": {
     "end_time": "2025-05-12T16:30:26.331151Z",
     "start_time": "2025-05-12T16:30:26.323721Z"
    }
   },
   "cell_type": "code",
   "source": [
    "dna_length = len(\"ATGC\")\n",
    "print(dna_length)"
   ],
   "id": "546b5c718bf77800",
   "outputs": [
    {
     "name": "stdout",
     "output_type": "stream",
     "text": [
      "4\n"
     ]
    }
   ],
   "execution_count": 20
  },
  {
   "metadata": {
    "ExecuteTime": {
     "end_time": "2025-05-12T16:34:12.639656Z",
     "start_time": "2025-05-12T16:34:12.522142Z"
    }
   },
   "cell_type": "code",
   "source": [
    "#store the DNA sequence in a variable\n",
    "my_dna = \"ATGCGAGT\"\n",
    "#calculate the length of the sequence\n",
    "dna_length = len(my_dna)\n",
    "#print a message telling us the dna sequence length\n",
    "print(\"The length of the string is \" + str(dna_length))"
   ],
   "id": "17b91cdde15d2875",
   "outputs": [
    {
     "name": "stdout",
     "output_type": "stream",
     "text": [
      "The length of the string is 8\n"
     ]
    }
   ],
   "execution_count": 22
  },
  {
   "metadata": {},
   "cell_type": "markdown",
   "source": "we can not concatenate numbers and string so we used the str function to convert the number to a string and can convert string to number using the int function",
   "id": "3f09320897981ff1"
  },
  {
   "metadata": {},
   "cell_type": "markdown",
   "source": [
    "3. Changing case\n",
    "\n",
    "We can convert a string to lower case by using a method"
   ],
   "id": "1a9df9153a7467d1"
  },
  {
   "metadata": {
    "ExecuteTime": {
     "end_time": "2025-05-12T17:13:06.506552Z",
     "start_time": "2025-05-12T17:13:06.499547Z"
    }
   },
   "cell_type": "code",
   "source": [
    "my_dna = \"ATGC\"\n",
    "#print my_dna in lower case\n",
    "print(my_dna.lower())"
   ],
   "id": "69f43016b1832a0f",
   "outputs": [
    {
     "name": "stdout",
     "output_type": "stream",
     "text": [
      "atgc\n"
     ]
    }
   ],
   "execution_count": 1
  },
  {
   "metadata": {},
   "cell_type": "markdown",
   "source": [
    "the lower method does not actually change the\n",
    "variable; instead it returns a copy of the variable in lower case."
   ],
   "id": "7b6af5ccb035551"
  },
  {
   "metadata": {},
   "cell_type": "markdown",
   "source": [
    "3. Replacement\n",
    "\n",
    "replace method it takes in two arguments both strings and returns a copy of the variable where all the first argument is replaced by the second one."
   ],
   "id": "f53041cb7dfe3a13"
  },
  {
   "metadata": {
    "ExecuteTime": {
     "end_time": "2025-05-12T17:28:18.548127Z",
     "start_time": "2025-05-12T17:28:18.519390Z"
    }
   },
   "cell_type": "code",
   "source": [
    "protein = \"vlspadktnv\"\n",
    "#replace valine with tyrosine\n",
    "print(protein.replace(\"v\",\"y\"))\n",
    "#we can also replace more that one character\n",
    "print(protein.replace(\"vls\",\"ymt\"))\n",
    "# the original variable is not affected\n",
    "print(protein)"
   ],
   "id": "f4291ad4418d30de",
   "outputs": [
    {
     "name": "stdout",
     "output_type": "stream",
     "text": [
      "ylspadktny\n",
      "ymtpadktnv\n",
      "vlspadktnv\n"
     ]
    }
   ],
   "execution_count": 4
  },
  {
   "metadata": {},
   "cell_type": "markdown",
   "source": [
    "4. Extracting part of a string\n",
    "\n",
    "Taking a substring is known as taking a short portion out of a long string. We do that by using the variable name with a pair of square brackets which enclose\n",
    "a start and stop position, separated by a colon"
   ],
   "id": "bb2eae491317c26c"
  },
  {
   "metadata": {
    "ExecuteTime": {
     "end_time": "2025-05-12T17:37:40.760177Z",
     "start_time": "2025-05-12T17:37:40.740775Z"
    }
   },
   "cell_type": "code",
   "source": [
    "protein = \"vlspadktnv\"\n",
    "#print positions three to five\n",
    "print(protein[3:5])\n",
    "#positions start at zero not one\n",
    "print(protein[0:6])\n",
    "#if we use a stop position beyound the end, it's the same as using the end\n",
    "print(protein[0:60])"
   ],
   "id": "d2ea570315324a67",
   "outputs": [
    {
     "name": "stdout",
     "output_type": "stream",
     "text": [
      "pa\n",
      "vlspad\n",
      "vlspadktnv\n"
     ]
    }
   ],
   "execution_count": 7
  },
  {
   "metadata": {},
   "cell_type": "markdown",
   "source": [
    "5. Counting and finding substrings\n",
    "we use the count method that takes a single argument which is a string and returns a number of the times the argument is found in the variable"
   ],
   "id": "753a61474cecdb3f"
  },
  {
   "metadata": {
    "ExecuteTime": {
     "end_time": "2025-05-12T19:25:54.656460Z",
     "start_time": "2025-05-12T19:25:54.539341Z"
    }
   },
   "cell_type": "code",
   "source": [
    "protein = \"vlspadktnv\"\n",
    "# count amino acid residue\n",
    "valine_count = protein.count(\"v\")\n",
    "lsp_count = protein.count(\"lsp\")\n",
    "try_count = protein.count(\"w\")\n",
    "\n",
    "# now print the counts\n",
    "print(\"Valines: \" + str(valine_count))\n",
    "print(\"LSP: \" + str(lsp_count))\n",
    "print(\"Trytophans: \" + str(try_count))"
   ],
   "id": "6c3357194ad7f456",
   "outputs": [
    {
     "name": "stdout",
     "output_type": "stream",
     "text": [
      "Valines: 2\n",
      "LSP: 1\n",
      "Trytophans: 0\n"
     ]
    }
   ],
   "execution_count": 8
  },
  {
   "metadata": {},
   "cell_type": "markdown",
   "source": "We can find the location of a substring using the find method take a single argument returns a number which is the position",
   "id": "43219287ab6b805d"
  },
  {
   "metadata": {
    "ExecuteTime": {
     "end_time": "2025-05-12T19:38:17.810120Z",
     "start_time": "2025-05-12T19:38:17.735772Z"
    }
   },
   "cell_type": "code",
   "source": [
    "protein = \"vlspadktnv\"\n",
    "print(str(protein.find(\"p\")))\n",
    "print(str(protein.find(\"kt\")))\n",
    "print(str(protein.find(\"w\")))"
   ],
   "id": "8977bb6a31f26522",
   "outputs": [
    {
     "name": "stdout",
     "output_type": "stream",
     "text": [
      "3\n",
      "6\n",
      "-1\n"
     ]
    }
   ],
   "execution_count": 9
  },
  {
   "metadata": {},
   "cell_type": "markdown",
   "source": "-1 is of a string that doesn't exist",
   "id": "24a30a0935de79e1"
  },
  {
   "metadata": {},
   "cell_type": "markdown",
   "source": [
    "### - Exercises\n",
    "\n",
    "1. Calculate AT content\n",
    "\n",
    "Here's a short DNA sequence:\n",
    "ACTGATCGATTACGTATAGTATTTGCTATCATACATATATATCGATGCGTTCAT\n",
    "Write a program that will print out the AT content of this DNA sequence"
   ],
   "id": "12888cc7cf828e19"
  },
  {
   "metadata": {
    "ExecuteTime": {
     "end_time": "2025-05-13T15:30:14.677454Z",
     "start_time": "2025-05-13T15:30:14.666109Z"
    }
   },
   "cell_type": "code",
   "source": [
    "dna_seq = \"ACTGATCGATTACGTATAGTATTTGCTATCATACATATATATCGATGCGTTCAT\"\n",
    "# find the length of the dna\n",
    "dna_length = len(dna_seq)\n",
    "print(\"The length of the string is \" + str(dna_length))\n",
    "# count the number of A & T we have\n",
    "Num_A = dna_seq.count(\"A\")\n",
    "Num_T = dna_seq.count(\"T\")\n",
    "print(\"The number of A \"+ str(Num_A))\n",
    "print(\"The number of A \" + str(Num_T))\n",
    "# add the number of A & T together\n",
    "sum_AT = Num_A + Num_T\n",
    "print(\"The sum of AT is \" + str(sum_AT))\n",
    "# calculate AT content\n",
    "AT_content = sum_AT / dna_length\n",
    "print(\"The AT content is \" + str(AT_content))"
   ],
   "id": "c6c4fc1f72fa068a",
   "outputs": [
    {
     "name": "stdout",
     "output_type": "stream",
     "text": [
      "The length of the string is 54\n",
      "The number of A 16\n",
      "The number of A 21\n",
      "The sum of AT is 37\n",
      "The AT content is 0.6851851851851852\n"
     ]
    }
   ],
   "execution_count": 20
  },
  {
   "metadata": {},
   "cell_type": "markdown",
   "source": [
    "2. Complementing DNA\n",
    "\n",
    "Here's a short DNA sequence:\n",
    "ACTGATCGATTACGTATAGTATTTGCTATCATACATATATATCGATGCGTTCAT\n",
    "Write a program that will print the complement of this sequence."
   ],
   "id": "8de4f14df1e12140"
  },
  {
   "metadata": {
    "ExecuteTime": {
     "end_time": "2025-05-13T16:46:38.445013Z",
     "start_time": "2025-05-13T16:46:38.358667Z"
    }
   },
   "cell_type": "code",
   "source": [
    "dna = \"ACTGATCGATTACGTATAGTATTTGCTATCATACATATATATCGATGCGTTCAT\"\n",
    "#replace A with lowercase t\n",
    "repl1 = dna.replace(\"A\", \"t\")\n",
    "#replace T with lowercase a\n",
    "repl2 = repl1.replace(\"T\", \"a\")\n",
    "#replace G with lowercase c\n",
    "repl3 = repl2.replace(\"G\", \"c\")\n",
    "#replace C with lowercase g\n",
    "repl4 = repl3.replace(\"C\", \"g\")\n",
    "#convert to uppercase\n",
    "new_dna = repl4.upper()\n",
    "print(\"The DNA complement is \" + new_dna)"
   ],
   "id": "c8909094e698437d",
   "outputs": [
    {
     "name": "stdout",
     "output_type": "stream",
     "text": [
      "The DNA complement is TGACTAGCTAATGCATATCATAAACGATAGTATGTATATATAGCTACGCAAGTA\n"
     ]
    }
   ],
   "execution_count": 21
  },
  {
   "metadata": {},
   "cell_type": "markdown",
   "source": [
    "3. Restriction fragment lengths\n",
    "\n",
    "Here's a short DNA sequence:\n",
    "ACTGATCGATTACGTATAGTAGAATTCTATCATACATATATATCGATGCGTTCAT\n",
    "The sequence contains a recognition site for the EcoRI restriction enzyme, which\n",
    "cuts at the motif G*AATTC (the position of the cut is indicated by an asterisk).\n",
    "Write a program which will calculate the size of the two fragments that will be\n",
    "produced when the DNA sequence is digested with EcoRI."
   ],
   "id": "46525bce3a611564"
  },
  {
   "metadata": {
    "ExecuteTime": {
     "end_time": "2025-05-13T16:57:17.331629Z",
     "start_time": "2025-05-13T16:57:17.320891Z"
    }
   },
   "cell_type": "code",
   "source": [
    "dna = \"ACTGATCGATTACGTATAGTAGAATTCTATCATACATATATATCGATGCGTTCAT\"\n",
    "#find the fragment of GAATTC\n",
    "frag1 = dna.find(\"GAATTC\") + 1\n",
    "#find the second fragment\n",
    "frag2 = len(dna) - frag1\n",
    "print(\"Length of fragment one is \" + str(frag1))\n",
    "print(\"Length of fragment two is \" + str(frag2))"
   ],
   "id": "6b3290d95a4c55c3",
   "outputs": [
    {
     "name": "stdout",
     "output_type": "stream",
     "text": [
      "Length of fragment one is 22\n",
      "Length of fragment two is 33\n"
     ]
    }
   ],
   "execution_count": 25
  },
  {
   "metadata": {},
   "cell_type": "markdown",
   "source": [
    "4. Splicing out introns, part one\n",
    "\n",
    "Here's a short section of genomic DNA:\n",
    "ATCGATCGATCGATCGACTGACTAGTCATAGCTATGCATGTAGCTACTCGATCGATCGA\n",
    "TCGATCGATCGATCGATCGATCGATCATGCTATCATCGATCGATATCGATGCATCGACT\n",
    "ACTAT\n",
    "\n",
    "It comprises two exons and an intron. The first exon runs from the start of the\n",
    "sequence to the sixty-third character, and the second exon runs from the ninetyfirst character to the end of the sequence. Write a program that will print just the\n",
    "coding regions of the DNA sequence."
   ],
   "id": "1b456997b505c57b"
  },
  {
   "metadata": {
    "ExecuteTime": {
     "end_time": "2025-05-13T17:41:22.988235Z",
     "start_time": "2025-05-13T17:41:22.963201Z"
    }
   },
   "cell_type": "code",
   "source": [
    "dna = \"ATCGATCGATCGATCGACTGACTAGTCATAGCTATGCATGTAGCTACTCGATCGATCGATCGATCGATCGATCGATCGATCGATCATGCTATCATCGATCGATATCGATGCATCGACTACTAT\"\n",
    "#cut the first exon\n",
    "exon1 = dna[0:62]\n",
    "#cut the second exon\n",
    "exon2 = dna[90:]\n",
    "#concatnate the exons together\n",
    "coding_region = exon1 + exon2\n",
    "print(coding_region)"
   ],
   "id": "6f49ab62d8ed60c0",
   "outputs": [
    {
     "name": "stdout",
     "output_type": "stream",
     "text": [
      "ATCGATCGATCGATCGACTGACTAGTCATAGCTATGCATGTAGCTACTCGATCGATCGATCGATCATCGATCGATATCGATGCATCGACTACTAT\n"
     ]
    }
   ],
   "execution_count": 30
  },
  {
   "metadata": {},
   "cell_type": "markdown",
   "source": [
    "5. Splicing out introns, part two\n",
    "\n",
    "Using the data from part one, write a program that will calculate what percentage\n",
    "of the DNA sequence is coding."
   ],
   "id": "b36de4cdb28004e3"
  },
  {
   "metadata": {
    "ExecuteTime": {
     "end_time": "2025-05-13T17:49:06.850620Z",
     "start_time": "2025-05-13T17:49:06.834275Z"
    }
   },
   "cell_type": "code",
   "source": [
    "dna = \"ATCGATCGATCGATCGACTGACTAGTCATAGCTATGCATGTAGCTACTCGATCGATCGATCGATCGATCGATCGATCGATCGATCATGCTATCATCGATCGATATCGATGCATCGACTACTAT\"\n",
    "#cut the first exon\n",
    "exon1 = dna[0:62]\n",
    "#cut the second exon\n",
    "exon2 = dna[90:]\n",
    "#concatnate the exons together\n",
    "coding_region = exon1 + exon2\n",
    "#find the length of the dna sequence\n",
    "dna_length = len(dna)\n",
    "#find the length of the coding region\n",
    "coding_region_length = len(coding_region)\n",
    "#find the coding percentage\n",
    "coding_percentage = coding_region_length / dna_length * 100\n",
    "print(\"The percentage of the DNA sequence that is coding is \" + str(coding_percentage) + \"%\")"
   ],
   "id": "109f70d9d629049a",
   "outputs": [
    {
     "name": "stdout",
     "output_type": "stream",
     "text": [
      "The percentage of the DNA sequence that is coding is 77.23577235772358%\n"
     ]
    }
   ],
   "execution_count": 43
  },
  {
   "metadata": {},
   "cell_type": "markdown",
   "source": [
    "6. Splicing out introns, part three\n",
    "\n",
    "Using the data from part one, write a program that will print out the original\n",
    "genomic DNA sequence with coding bases in uppercase and non-coding bases in\n",
    "lowercase."
   ],
   "id": "105a865220d15da7"
  },
  {
   "metadata": {
    "ExecuteTime": {
     "end_time": "2025-05-13T17:50:01.482759Z",
     "start_time": "2025-05-13T17:50:01.470238Z"
    }
   },
   "cell_type": "code",
   "source": [
    "dna = \"ATCGATCGATCGATCGACTGACTAGTCATAGCTATGCATGTAGCTACTCGATCGATCGATCGATCGATCGATCGATCGATCGATCATGCTATCATCGATCGATATCGATGCATCGACTACTAT\"\n",
    "#first exon\n",
    "exon1 = dna[0:63]\n",
    "#intron in lowercase\n",
    "intron = dna[63:90].lower()\n",
    "#second exon\n",
    "exon2 = dna[90:]\n",
    "#new dna sequence\n",
    "new_dna = exon1 + intron +exon2\n",
    "print(new_dna)"
   ],
   "id": "378b41f758aff3c3",
   "outputs": [
    {
     "name": "stdout",
     "output_type": "stream",
     "text": [
      "ATCGATCGATCGATCGACTGACTAGTCATAGCTATGCATGTAGCTACTCGATCGATCGATCGAtcgatcgatcgatcgatcgatcatgctATCATCGATCGATATCGATGCATCGACTACTAT\n"
     ]
    }
   ],
   "execution_count": 44
  }
 ],
 "metadata": {
  "kernelspec": {
   "display_name": "Python 3",
   "language": "python",
   "name": "python3"
  },
  "language_info": {
   "codemirror_mode": {
    "name": "ipython",
    "version": 2
   },
   "file_extension": ".py",
   "mimetype": "text/x-python",
   "name": "python",
   "nbconvert_exporter": "python",
   "pygments_lexer": "ipython2",
   "version": "2.7.6"
  }
 },
 "nbformat": 4,
 "nbformat_minor": 5
}
